{
 "cells": [
  {
   "cell_type": "markdown",
   "id": "4f419984-417b-4409-adcc-54ee1d4cc8fa",
   "metadata": {},
   "source": [
    "#Functions\n",
    "\n",
    "This file can be used to write functions that simplify the code"
   ]
  },
  {
   "cell_type": "code",
   "execution_count": null,
   "id": "4bb966ad-5033-4a11-ac18-f415c18cc274",
   "metadata": {},
   "outputs": [],
   "source": []
  },
  {
   "cell_type": "markdown",
   "id": "c1a94e86-8f3f-4f1b-868a-aeb07d552db6",
   "metadata": {},
   "source": [
    "plot function to show a bar chart"
   ]
  },
  {
   "cell_type": "code",
   "execution_count": 9,
   "id": "99766301-7812-4e37-8f8a-293e59108d1e",
   "metadata": {},
   "outputs": [],
   "source": [
    "import matplotlib.pyplot as plt\n",
    "def plot_bar_average(data, savefigure_name, xlabel, ylabel, print_xaxis = True):\n",
    "    \"\"\"\n",
    "    This function created shows a bar plot with the corresponding data\n",
    "    \n",
    "    INPUT:\n",
    "    data (dataframe) - data to be displayed\n",
    "    savefigure_name (str) - needs a format (.png, .jpg)\n",
    "    xlabel (str)\n",
    "    ylabel (str)\n",
    "    print_xaxis (bool) - if the origin of the x axis is displayed or not\n",
    "    \n",
    "    OUTPUT:\n",
    "    -\n",
    "    \"\"\"\n",
    "    \n",
    "    data.plot(kind='bar', legend=None);\n",
    "    if print_xaxis:\n",
    "        plt.axhline(0, color = \"k\", linewidth = 0.8)\n",
    "    plt.xlabel(xlabel)\n",
    "    plt.ylabel(ylabel)\n",
    "    plt.savefig(savefigure_name)\n",
    "    plt.show()"
   ]
  },
  {
   "cell_type": "code",
   "execution_count": 10,
   "id": "18646cc2-2331-40bd-b954-758552c71c5e",
   "metadata": {},
   "outputs": [
    {
     "name": "stderr",
     "output_type": "stream",
     "text": [
      "[NbConvertApp] Converting notebook functions.ipynb to script\n",
      "[NbConvertApp] Writing 940 bytes to functions.py\n"
     ]
    }
   ],
   "source": [
    "!jupyter nbconvert --to script functions.ipynb"
   ]
  },
  {
   "cell_type": "code",
   "execution_count": null,
   "id": "538cb822-d6c6-4ac2-a232-82d3eeb1929a",
   "metadata": {},
   "outputs": [],
   "source": []
  }
 ],
 "metadata": {
  "kernelspec": {
   "display_name": "Python 3 (ipykernel)",
   "language": "python",
   "name": "python3"
  },
  "language_info": {
   "codemirror_mode": {
    "name": "ipython",
    "version": 3
   },
   "file_extension": ".py",
   "mimetype": "text/x-python",
   "name": "python",
   "nbconvert_exporter": "python",
   "pygments_lexer": "ipython3",
   "version": "3.9.7"
  }
 },
 "nbformat": 4,
 "nbformat_minor": 5
}
